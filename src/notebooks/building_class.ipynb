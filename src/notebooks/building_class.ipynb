{
 "cells": [
  {
   "cell_type": "code",
   "execution_count": 2,
   "metadata": {},
   "outputs": [
    {
     "name": "stdout",
     "output_type": "stream",
     "text": [
      "70b24b83b00e48da8d2adfb637422206\n"
     ]
    }
   ],
   "source": [
    "import discogs_client as DiscogsClient\n",
    "from rapidfuzz import process as r_process, fuzz as r_fuzz\n",
    "from rich import print as rprint\n",
    "import spotipy\n",
    "from spotipy.oauth2 import SpotifyClientCredentials\n",
    "import os\n",
    "\n",
    "import dotenv\n",
    "env_file_name = '../../../.env'\n",
    "dotenv.load_dotenv(env_file_name, override=True)\n",
    "\n",
    "SPOTIPY_CLIENT_ID = os.getenv('SPOTIFY_CLIENT_ID')\n",
    "SPOTIPY_CLIENT_SECRET = os.getenv('SPOTIFY_CLIENT_SECRET')\n",
    "DISCOGS_USER_TOKEN = os.getenv('DISCOGS_USER_TOKEN')\n",
    "YTMUSIC_REFRESH_TOKEN = os.getenv('YTMUSIC_REFRESH_TOKEN')\n",
    "YTMUSIC_ACCESS_TOKEN = os.getenv('YTMUSIC_ACCESS_TOKEN')\n",
    "\n",
    "print(SPOTIPY_CLIENT_SECRET)\n",
    "\n",
    "discogs_client = DiscogsClient.Client('ExampleApplication/0.1', user_token=DISCOGS_USER_TOKEN)\n",
    "spotify_auth_manager = SpotifyClientCredentials(client_id=SPOTIPY_CLIENT_ID, client_secret=SPOTIPY_CLIENT_SECRET)\n",
    "spotify_client = spotipy.Spotify(client_credentials_manager=spotify_auth_manager)"
   ]
  },
  {
   "cell_type": "code",
   "execution_count": 3,
   "metadata": {},
   "outputs": [],
   "source": [
    "band_name = 'grendel'\n",
    "grendel_discord = discogs_client.search(band_name, type='artist')\n",
    "grendel_spotify = spotify_client.search(band_name, type='artist', limit=50)\n"
   ]
  },
  {
   "cell_type": "code",
   "execution_count": null,
   "metadata": {},
   "outputs": [],
   "source": [
    "# type(grendel_discord) == custom_object\n",
    "# type(grendel_spotify) == dict\n",
    "\n",
    "# discord attributes\n",
    "['aliases', 'changes', 'client', 'data', 'data_quality', 'delete', 'fetch', 'groups', 'id', 'images', \n",
    " 'join', 'members', 'name', 'name_variations', 'previous_request', 'profile', 'real_name', 'refresh', \n",
    " 'releases', 'role', 'save', 'url', 'urls']\n",
    "\n",
    "# spotify keys\n",
    "['external_urls', 'followers', 'genres', 'href', 'id', 'images', 'name', 'popularity', 'type', 'uri']\n",
    "\n",
    "# required keys/attribs:\n",
    "['id', 'images', 'url', 'name']"
   ]
  }
 ],
 "metadata": {
  "kernelspec": {
   "display_name": "music_db",
   "language": "python",
   "name": "python3"
  },
  "language_info": {
   "codemirror_mode": {
    "name": "ipython",
    "version": 3
   },
   "file_extension": ".py",
   "mimetype": "text/x-python",
   "name": "python",
   "nbconvert_exporter": "python",
   "pygments_lexer": "ipython3",
   "version": "3.11.9"
  }
 },
 "nbformat": 4,
 "nbformat_minor": 2
}
