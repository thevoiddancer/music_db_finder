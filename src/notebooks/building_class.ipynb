{
 "cells": [
  {
   "cell_type": "code",
   "execution_count": 1,
   "metadata": {},
   "outputs": [],
   "source": [
    "import discogs_client as DiscogsClient\n",
    "from rapidfuzz import process as r_process, fuzz as r_fuzz\n",
    "from rich import print as rprint\n",
    "import spotipy\n",
    "from spotipy.oauth2 import SpotifyClientCredentials\n",
    "import os\n",
    "\n",
    "import dotenv\n",
    "env_file_name = '../../../.env'\n",
    "dotenv.load_dotenv(env_file_name, override=True)\n",
    "\n",
    "SPOTIPY_CLIENT_ID = os.getenv('SPOTIFY_CLIENT_ID')\n",
    "SPOTIPY_CLIENT_SECRET = os.getenv('SPOTIFY_CLIENT_SECRET')\n",
    "DISCOGS_USER_TOKEN = os.getenv('DISCOGS_USER_TOKEN')\n",
    "YTMUSIC_REFRESH_TOKEN = os.getenv('YTMUSIC_REFRESH_TOKEN')\n",
    "YTMUSIC_ACCESS_TOKEN = os.getenv('YTMUSIC_ACCESS_TOKEN')\n",
    "\n",
    "discogs_client = DiscogsClient.Client('ExampleApplication/0.1', user_token=DISCOGS_USER_TOKEN)\n",
    "spotify_auth_manager = SpotifyClientCredentials(client_id=SPOTIPY_CLIENT_ID, client_secret=SPOTIPY_CLIENT_SECRET)\n",
    "spotify_client = spotipy.Spotify(client_credentials_manager=spotify_auth_manager)"
   ]
  },
  {
   "cell_type": "code",
   "execution_count": 6,
   "metadata": {},
   "outputs": [],
   "source": [
    "band_name = 'grendel'\n",
    "grendel_discord = discogs_client.search(band_name, type='artist')\n",
    "grendel_spotify = spotify_client.search(band_name, type='artist', limit=50)\n"
   ]
  },
  {
   "cell_type": "code",
   "execution_count": 71,
   "metadata": {},
   "outputs": [],
   "source": [
    "# type(grendel_discogs) == <class 'discogs_client.models.MixedPaginatedList'>\n",
    "# type(grendel_discogs[0]) == <class 'discogs_client.models.Artist'>\n",
    "\n",
    "# [attr for attr in dir(grendel_discogs) if attr[0] != '_']\n",
    "# ['client', 'count', 'filter', 'page', 'pages', 'per_page', 'sort', 'url']\n",
    "\n",
    "# [attr for attr in dir(grendel_discogs[0]) if attr[0] != '_']\n",
    "# ['aliases', 'changes', 'client', 'data', 'data_quality', 'delete', 'fetch', 'groups', 'id', 'images', \n",
    "#  'join', 'members', 'name', 'name_variations', 'previous_request', 'profile', 'real_name', 'refresh', \n",
    "#  'releases', 'role', 'save', 'url', 'urls']\n",
    "# grendel_discogs[0].data.keys()\n",
    "# ['id', 'type', 'user_data', 'master_id', 'master_url', 'uri', 'title', 'thumb', 'cover_image', \n",
    "# 'resource_url', 'name', 'releases_url', 'images', 'profile', 'urls', 'namevariations', 'members', 'data_quality']\n",
    "# type(grendel_spotify) == dict\n",
    "\n",
    "# grendel_spotify.keys()\n",
    "# ['artists']\n",
    "# grendel_spotify['artists'].keys()\n",
    "# ['href', 'items', 'limit', 'next', 'offset', 'previous', 'total']\n",
    "# grendel_spotify['artists']['items'][0].keys()\n",
    "# ['external_urls', 'followers', 'genres', 'href', 'id', 'images', 'name', 'popularity', 'type', 'uri']\n",
    "\n",
    "# required keys/attribs:\n",
    "['id', 'images', 'url', 'name']\n",
    "\n",
    "class Artist:\n",
    "    def __init__(self, object):\n",
    "        if isinstance(object, dict):\n",
    "            self.id = object['id']\n",
    "            self.image = object['images'][2]['url']\n",
    "            self.image_height = object['images'][2]['height']\n",
    "            self.image_width = object['images'][2]['width']\n",
    "            self.url = object['external_urls']['spotify']\n",
    "            self.name = object['name']\n",
    "        else:\n",
    "            self.id = object.id\n",
    "            self.image = object.images[0]['uri']\n",
    "            self.image_height = object.images[0]['height']\n",
    "            self.image_width = object.images[0]['width']\n",
    "            self.url = object.url\n",
    "            self.name = object.name\n"
   ]
  },
  {
   "cell_type": "code",
   "execution_count": 72,
   "metadata": {},
   "outputs": [],
   "source": [
    "# display([attr for attr in dir(grendel_discord[0]) if attr[0] != '_'])\n",
    "# display(grendel_discord[0].url)\n",
    "grend_disc = Artist(grendel_discord[0])\n",
    "grend_spot = Artist(grendel_spotify['artists']['items'][0])\n"
   ]
  }
 ],
 "metadata": {
  "kernelspec": {
   "display_name": "music_db",
   "language": "python",
   "name": "python3"
  },
  "language_info": {
   "codemirror_mode": {
    "name": "ipython",
    "version": 3
   },
   "file_extension": ".py",
   "mimetype": "text/x-python",
   "name": "python",
   "nbconvert_exporter": "python",
   "pygments_lexer": "ipython3",
   "version": "3.11.11"
  }
 },
 "nbformat": 4,
 "nbformat_minor": 2
}
