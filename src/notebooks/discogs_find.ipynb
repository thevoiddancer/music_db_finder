{
 "cells": [
  {
   "cell_type": "code",
   "execution_count": 3,
   "metadata": {},
   "outputs": [
    {
     "name": "stdout",
     "output_type": "stream",
     "text": [
      "70b24b83b00e48da8d2adfb637422206\n"
     ]
    }
   ],
   "source": [
    "import discogs_client as DiscogsClient\n",
    "from rapidfuzz import process as r_process, fuzz as r_fuzz\n",
    "from rich import print as rprint\n",
    "import spotipy\n",
    "from spotipy.oauth2 import SpotifyClientCredentials\n",
    "import os\n",
    "\n",
    "import dotenv\n",
    "env_file_name = '../../../.env'\n",
    "dotenv.load_dotenv(env_file_name, override=True)\n",
    "\n",
    "SPOTIPY_CLIENT_ID = os.getenv('SPOTIFY_CLIENT_ID')\n",
    "SPOTIPY_CLIENT_SECRET = os.getenv('SPOTIFY_CLIENT_SECRET')\n",
    "DISCOGS_USER_TOKEN = os.getenv('DISCOGS_USER_TOKEN')\n",
    "YTMUSIC_REFRESH_TOKEN = os.getenv('YTMUSIC_REFRESH_TOKEN')\n",
    "YTMUSIC_ACCESS_TOKEN = os.getenv('YTMUSIC_ACCESS_TOKEN')\n",
    "\n",
    "print(SPOTIPY_CLIENT_SECRET)\n",
    "\n",
    "discogs_client = DiscogsClient.Client('ExampleApplication/0.1', user_token=DISCOGS_USER_TOKEN)\n",
    "spotify_auth_manager = SpotifyClientCredentials(client_id=SPOTIPY_CLIENT_ID, client_secret=SPOTIPY_CLIENT_SECRET)\n",
    "spotify_client = spotipy.Spotify(client_credentials_manager=spotify_auth_manager)"
   ]
  },
  {
   "cell_type": "code",
   "execution_count": 11,
   "metadata": {},
   "outputs": [],
   "source": [
    "def find_band_exact(band_name):\n",
    "    \"\"\"Returns the artist object for searches that have only one exact match, \n",
    "    ignoring case. If multiple results are returned, returns None.\n",
    "    \n",
    "    It works by iterating through ALL the results and comparing search string to name\n",
    "    and truncated name (one split from the right, for (1) duplicated names). If it\n",
    "    finds two of the same string it exists with None.\n",
    "    \"\"\"\n",
    "    # DONE optimization: iterate over results until two are found\n",
    "    # if only 1 exists, it goes through it all, as it does now\n",
    "    # if 2+ exist, it goes until it founds second\n",
    "    # TODO optimization: use as chained, returning status and result\n",
    "    # if only 1 exist return true and the object as a list\n",
    "    # if multiple exists return false and all candidates as a list\n",
    "    ### Those are contradicting functionalities, enable a switch?\n",
    "    # Not required - the first one if generally faster:\n",
    "    # If you want to get just the artist and it exist - you need to iterate all.\n",
    "    # If you want to get just the artist and multiple exist:\n",
    "    #   you have to iterate again through the next function, through all results\n",
    "    #   or you give up\n",
    "    # For first to be slower it needs to iterate through the list twice:\n",
    "    #   that is, the second same artist must be at the very end\n",
    "    #   and we can rely on search optimization that they push similar artists ahead\n",
    "    # DONE: check if you've iterated through them all - for _ in result iterates all\n",
    "    band_results = discogs_client.search(band_name, type='artist')\n",
    "    candidate = None\n",
    "    for result in band_results:\n",
    "        if band_name.lower() in [(res_lower := result.name.lower()), res_lower.rsplit(maxsplit=1)[0]]:\n",
    "            if not candidate:\n",
    "                candidate = result\n",
    "            else:\n",
    "                return None\n",
    "    return candidate"
   ]
  },
  {
   "cell_type": "code",
   "execution_count": 10,
   "metadata": {},
   "outputs": [
    {
     "name": "stdout",
     "output_type": "stream",
     "text": [
      "<Artist 83146 'The Sisters Of Mercy'>\n",
      "<Artist 8300178 'The Sisters Of Mercy Choir'>\n"
     ]
    }
   ],
   "source": [
    "find_band_exact('the sisters of mercy')"
   ]
  }
 ],
 "metadata": {
  "kernelspec": {
   "display_name": "music_finder",
   "language": "python",
   "name": "python3"
  },
  "language_info": {
   "codemirror_mode": {
    "name": "ipython",
    "version": 3
   },
   "file_extension": ".py",
   "mimetype": "text/x-python",
   "name": "python",
   "nbconvert_exporter": "python",
   "pygments_lexer": "ipython3",
   "version": "3.11.9"
  }
 },
 "nbformat": 4,
 "nbformat_minor": 2
}
