{
 "cells": [
  {
   "cell_type": "code",
   "execution_count": 1,
   "metadata": {},
   "outputs": [
    {
     "name": "stdout",
     "output_type": "stream",
     "text": [
      "70b24b83b00e48da8d2adfb637422206\n"
     ]
    }
   ],
   "source": [
    "import discogs_client as DiscogsClient\n",
    "from rapidfuzz import process as r_process, fuzz as r_fuzz\n",
    "from rich import print as rprint\n",
    "import spotipy\n",
    "from spotipy.oauth2 import SpotifyClientCredentials\n",
    "import os\n",
    "from music_db_finder.fuzz_helpers import obj_ratio\n",
    "\n",
    "import dotenv\n",
    "env_file_name = '../../../.env'\n",
    "dotenv.load_dotenv(env_file_name, override=True)\n",
    "\n",
    "SPOTIPY_CLIENT_ID = os.getenv('SPOTIFY_CLIENT_ID')\n",
    "SPOTIPY_CLIENT_SECRET = os.getenv('SPOTIFY_CLIENT_SECRET')\n",
    "DISCOGS_USER_TOKEN = os.getenv('DISCOGS_USER_TOKEN')\n",
    "YTMUSIC_REFRESH_TOKEN = os.getenv('YTMUSIC_REFRESH_TOKEN')\n",
    "YTMUSIC_ACCESS_TOKEN = os.getenv('YTMUSIC_ACCESS_TOKEN')\n",
    "\n",
    "print(SPOTIPY_CLIENT_SECRET)\n",
    "\n",
    "discogs_client = DiscogsClient.Client('ExampleApplication/0.1', user_token=DISCOGS_USER_TOKEN)\n",
    "spotify_auth_manager = SpotifyClientCredentials(client_id=SPOTIPY_CLIENT_ID, client_secret=SPOTIPY_CLIENT_SECRET)\n",
    "spotify_client = spotipy.Spotify(client_credentials_manager=spotify_auth_manager)"
   ]
  },
  {
   "cell_type": "code",
   "execution_count": 14,
   "metadata": {},
   "outputs": [],
   "source": [
    "def match_exact_discog(search_string, results):\n",
    "    candidate = None\n",
    "    for result in results:\n",
    "        res_lower = getattr(result, 'name', getattr(result, 'title', None))\n",
    "        if not res_lower:\n",
    "            continue\n",
    "        names = [res_lower.lower(), res_lower.lower().rsplit(maxsplit=1)[0]]\n",
    "        if search_string.lower() in names:\n",
    "            if not candidate:\n",
    "                candidate = result\n",
    "            else:\n",
    "                return None\n",
    "    return candidate\n",
    "\n",
    "def find_band_exact(band_name):\n",
    "    \"\"\"Returns the artist object for searches that have only one exact match, \n",
    "    ignoring case. If multiple results are returned, returns None.\n",
    "    \n",
    "    It works by iterating through ALL the results and comparing search string to name\n",
    "    and truncated name (one split from the right, for (1) duplicated names). If it\n",
    "    finds two of the same string it exists with None.\n",
    "    \"\"\"\n",
    "    # DONE optimization: iterate over results until two are found\n",
    "    # if only 1 exists, it goes through it all, as it does now\n",
    "    # if 2+ exist, it goes until it founds second\n",
    "    # TODO optimization: use as chained, returning status and result\n",
    "    # if only 1 exist return true and the object as a list\n",
    "    # if multiple exists return false and all candidates as a list\n",
    "    ### Those are contradicting functionalities, enable a switch?\n",
    "    # Not required - the first one if generally faster:\n",
    "    # If you want to get just the artist and it exist - you need to iterate all.\n",
    "    # If you want to get just the artist and multiple exist:\n",
    "    #   you have to iterate again through the next function, through all results\n",
    "    #   or you give up\n",
    "    # For first to be slower it needs to iterate through the list twice:\n",
    "    #   that is, the second same artist must be at the very end\n",
    "    #   and we can rely on search optimization that they push similar artists ahead\n",
    "    # DONE: check if you've iterated through them all - for _ in result iterates all\n",
    "    band_results = discogs_client.search(band_name, type='artist')\n",
    "    candidate = None\n",
    "    for result in band_results:\n",
    "        names = [(res_lower := result.name.lower()), res_lower.rsplit(maxsplit=1)[0]]\n",
    "        if band_name.lower() in names:\n",
    "            if not candidate:\n",
    "                candidate = result\n",
    "            else:\n",
    "                return None\n",
    "    return candidate\n",
    "\n",
    "def find_exact(search_string, search_type):\n",
    "    results = discogs_client.search(search_string, type=search_type)\n",
    "    return match_exact_discog(search_string, results)\n",
    "\n",
    "def find_band_fuzzy(band_name, scorer=obj_ratio):\n",
    "    band_results = discogs_client.search(band_name, type='artist')\n",
    "    kwargs = {'scorer':scorer, 'limit':None, 'score_cutoff':75}\n",
    "    fuzzy_results = r_process.extract(band_name, band_results, **kwargs)\n",
    "    return map(lambda x: x[0], fuzzy_results)\n",
    "\n",
    "def find_fuzzy(search_string, search_type, scorer=obj_ratio):\n",
    "    results = discogs_client.search(search_string, type='artist')\n",
    "    kwargs = {'scorer':scorer, 'limit':None, 'score_cutoff':75}\n",
    "    fuzzy_results = r_process.extract(search_string, results, **kwargs)\n",
    "    return map(lambda x: x[0], fuzzy_results)\n",
    "\n",
    "def find_band_by_album(band_name, album_name, scorer=obj_ratio):\n",
    "    bands = find_fuzzy(band_name, 'artist', scorer)\n",
    "    for band in bands:\n",
    "        print(band.name)\n",
    "        print(band.releases)\n",
    "        # result = find_exact(album_name, 'master')\n"
   ]
  },
  {
   "cell_type": "code",
   "execution_count": 103,
   "metadata": {},
   "outputs": [
    {
     "name": "stdout",
     "output_type": "stream",
     "text": [
      "<Master 2836 'The Sisters Of Mercy - Floodland'>\n"
     ]
    }
   ],
   "source": [
    "def match_exact_discog(search_string, results):\n",
    "    candidate = None\n",
    "    for result in results:\n",
    "        res_lower = getattr(result, 'name', getattr(getattr(result, 'master', getattr(result, 'main_release', 'none')), 'title', 'none'))\n",
    "        if not res_lower:\n",
    "            continue\n",
    "        names = [res_lower.lower(), res_lower.lower().rsplit(maxsplit=1)[0]]\n",
    "        if search_string.lower() in names:\n",
    "            if not candidate:\n",
    "                candidate = result\n",
    "            else:\n",
    "                return None\n",
    "    return candidate\n",
    "\n",
    "search_string = 'floodland'\n",
    "search_type = 'master'\n",
    "results = discogs_client.search(search_string, type=search_type)\n",
    "print(results[0])\n",
    "match_exact_discog(search_string, results)\n",
    "\n",
    "# search_string = 'floodland'\n",
    "# # release\n",
    "# search_type = 'release'  # discogs_client.models.Release  # 313899   # 2836\n",
    "# results = discogs_client.search(search_string, type=search_type)\n",
    "\n",
    "# one = results[0]\n",
    "# # print(one.master.title)\n",
    "# print(getattr(one, 'name', getattr(getattr(one, 'master', getattr(one, 'main_release', 'none')), 'title', 'none')))\n",
    "\n",
    "# # master\n",
    "# search_type = 'master'  # discogs_client.models.Master  # 2836\n",
    "# results = discogs_client.search(search_string, type=search_type)\n",
    "# one = results[0]\n",
    "# # print(one.main_release.title)\n",
    "# print(getattr(one, 'name', getattr(getattr(one, 'master', getattr(one, 'main_release', 'none')), 'title', 'none')))\n",
    "\n",
    "\n",
    "# search_string = 'the sisters of mercy'\n",
    "# # release\n",
    "# search_type = 'artist'\n",
    "# results = discogs_client.search(search_string, type=search_type)\n",
    "\n",
    "# one = results[0]\n",
    "# # print(one.name)\n",
    "# print(getattr(one, 'name', getattr(getattr(one, 'master', getattr(one, 'main_release', 'none')), 'title', 'none')))\n",
    "\n"
   ]
  },
  {
   "cell_type": "code",
   "execution_count": null,
   "metadata": {},
   "outputs": [],
   "source": [
    "def find_band_by_album(band_name, album_name, scorer=obj_ratio):\n",
    "    bands = find_fuzzy(band_name, 'artist', scorer)\n",
    "    for band in bands:\n",
    "        print(band.name)\n",
    "        print(band.id)\n",
    "        try:\n",
    "            for release in band.releases:\n",
    "                print(release.title)\n",
    "        except:\n",
    "            print(f'Found error for artist {band.id}: {band.name} [discogs.com{band.url}]')\n",
    "        # result = find_exact(album_name, 'master')\n",
    "\n",
    "find_band_by_album('sisters of mercy', 'floodland')"
   ]
  },
  {
   "cell_type": "code",
   "execution_count": 36,
   "metadata": {},
   "outputs": [
    {
     "name": "stdout",
     "output_type": "stream",
     "text": [
      "<discogs_client.models.MixedPaginatedList object at 0x7f9094d4f4d0>\n",
      "<discogs_client.models.MixedPaginatedList object at 0x7f9094ec9410>\n",
      "<Master 2836 'Floodland'>\n",
      "<Master 2836 'Floodland'>\n",
      "<Master 1284386 \"Floodland Demo's\">\n",
      "<Master 2095744 'Floodland Demos'>\n"
     ]
    }
   ],
   "source": [
    "band_name = 'sisters of mercy'\n",
    "print(discogs_client.search(band_name, type='artist'))\n",
    "\n",
    "find = list(find_fuzzy(band_name, 'artist'))\n",
    "band = find[1]\n",
    "print(band.releases)\n",
    "\n",
    "\n",
    "# match_exact_discog('floodland', band.releases)\n",
    "for release in band.releases:\n",
    "    if 'floodland' in release.title.lower():\n",
    "        print(release)\n",
    "\n",
    "# dir(band)\n",
    "# unofficial albums?!"
   ]
  },
  {
   "cell_type": "code",
   "execution_count": null,
   "metadata": {},
   "outputs": [],
   "source": [
    "band_name = 'the sisters of mercy'\n",
    "bands = list(find_band_fuzzy(band_name))\n",
    "print(bands)\n",
    "band = bands[0]\n",
    "print(band.name)\n",
    "print(band.releases)\n",
    "print(list(band.releases))\n",
    "dir(band)"
   ]
  },
  {
   "cell_type": "code",
   "execution_count": 31,
   "metadata": {},
   "outputs": [
    {
     "data": {
      "text/plain": [
       "[<Master 2836 'The Sisters Of Mercy - Floodland'>,\n",
       " <Master 1098759 'Oscar Mulero - Floodland EP'>,\n",
       " <Master 2095744 'The Sisters Of Mercy - Floodland Demos'>,\n",
       " <Master 1284386 \"The Sisters Of Mercy - Floodland Demo's\">,\n",
       " <Master 217391 'Floodland - Ocean Of The Lost'>,\n",
       " <Master 217392 'Floodland - Decay'>,\n",
       " <Master 430797 'Aun (2) - Full Circle'>,\n",
       " <Master 1693442 'Analytica - Analytica'>,\n",
       " <Master 1238410 'Oscar Mulero - Pro-Files'>,\n",
       " <Master 1380655 'Planning For Burial - Quietly'>,\n",
       " <Master 1704501 'Zanias - Harmaline'>,\n",
       " <Master 1039749 'Oscar Mulero - In Bad Company'>,\n",
       " <Master 92738 'Rue East - Indoor Culture Remixes - Part 2'>,\n",
       " <Master 2913841 'Thee Flanders - Lockdown EP'>,\n",
       " <Master 483349 'Ektoise - Distortions'>,\n",
       " <Master 613531 'Various - Battery: A Tribute To Rammstein'>,\n",
       " <Master 286772 'Various - London v Madrid EP'>,\n",
       " <Master 1078543 'Ego Likeness - The Compass EPs'>,\n",
       " <Master 404719 'DSTR* - Silent World EP'>,\n",
       " <Master 3397648 'Zanias - Ecdysis'>,\n",
       " <Master 588254 'The Sisters Of Mercy - Kill The Lights'>,\n",
       " <Master 2699480 'Sisters Of Mercy* - The Triple Album Collection'>,\n",
       " <Master 1705360 'Me And That Man - New Man, New Songs, Same Shit. Vol.1'>,\n",
       " <Master 63676 'The Sisters Of Mercy - Black Dominion'>,\n",
       " <Master 128825 'Various - Our Voices - A Tribute To The Cure'>,\n",
       " <Master 1356098 'The Sisters Of Mercy - Demos II'>,\n",
       " <Master 1487859 'The Sisters Of Mercy - Demos I'>,\n",
       " <Master 1848278 'Rammstein - Rammstein (2) 1994-2002'>,\n",
       " <Master 1415711 'The Sisters Of Mercy - Original Album Series'>,\n",
       " <Master 919901 'Rammstein - MP3 Collection'>,\n",
       " <Master 299881 'Various - WEA Star Galerie'>,\n",
       " <Master 942994 'The Sisters Of Mercy - The Sisters Of Mercy (1) Albums'>]"
      ]
     },
     "execution_count": 31,
     "metadata": {},
     "output_type": "execute_result"
    }
   ],
   "source": [
    "band_name = 'the sisters of mercy'\n",
    "album_name = 'floodland'\n",
    "search_type = 'artist'\n",
    "# print(list(find_band_fuzzy(band_name)))\n",
    "# print(list(find_fuzzy(band_name, search_type)))\n",
    "\n",
    "list(discogs_client.search(album_name, type='master'))"
   ]
  }
 ],
 "metadata": {
  "kernelspec": {
   "display_name": "music_finder",
   "language": "python",
   "name": "python3"
  },
  "language_info": {
   "codemirror_mode": {
    "name": "ipython",
    "version": 3
   },
   "file_extension": ".py",
   "mimetype": "text/x-python",
   "name": "python",
   "nbconvert_exporter": "python",
   "pygments_lexer": "ipython3",
   "version": "3.11.9"
  }
 },
 "nbformat": 4,
 "nbformat_minor": 2
}
