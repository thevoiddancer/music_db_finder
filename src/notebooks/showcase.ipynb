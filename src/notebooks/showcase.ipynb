{
 "cells": [
  {
   "cell_type": "code",
   "execution_count": 1,
   "metadata": {},
   "outputs": [],
   "source": [
    "# IMPORTS\n",
    "import typing as tp\n",
    "import discogs_client as DiscogsClient\n",
    "from rapidfuzz import process as r_process, fuzz as r_fuzz\n",
    "from rich import print as rprint\n",
    "import spotipy\n",
    "from spotipy.oauth2 import SpotifyClientCredentials\n",
    "import os\n",
    "import json\n",
    "import pathlib\n",
    "import dotenv\n",
    "env_file_name = '/../../../.env'\n",
    "env_path = pathlib.Path(os.getcwd() + env_file_name)\n",
    "if env_path.exists():\n",
    "    dotenv.load_dotenv(env_path, override=True)\n",
    "else:\n",
    "    raise FileExistsError('env file does not exist')\n",
    "\n",
    "SPOTIPY_CLIENT_ID = os.getenv('SPOTIFY_CLIENT_ID')\n",
    "SPOTIPY_CLIENT_SECRET = os.getenv('SPOTIFY_CLIENT_SECRET')\n",
    "DISCOGS_USER_TOKEN = os.getenv('DISCOGS_USER_TOKEN')\n",
    "\n",
    "discogs_client = DiscogsClient.Client('ExampleApplication/0.1', user_token=DISCOGS_USER_TOKEN)\n",
    "spotify_auth_manager = SpotifyClientCredentials(client_id=SPOTIPY_CLIENT_ID, client_secret=SPOTIPY_CLIENT_SECRET)\n",
    "spotify_client = spotipy.Spotify(client_credentials_manager=spotify_auth_manager)\n",
    "\n"
   ]
  },
  {
   "cell_type": "markdown",
   "metadata": {},
   "source": [
    "# DISCOGS"
   ]
  },
  {
   "cell_type": "code",
   "execution_count": null,
   "metadata": {},
   "outputs": [],
   "source": []
  },
  {
   "cell_type": "markdown",
   "metadata": {},
   "source": [
    "# SPOTIFY"
   ]
  },
  {
   "cell_type": "code",
   "execution_count": null,
   "metadata": {},
   "outputs": [],
   "source": []
  },
  {
   "cell_type": "markdown",
   "metadata": {},
   "source": [
    "# YOUTUBE"
   ]
  },
  {
   "cell_type": "markdown",
   "metadata": {},
   "source": [
    "## Setup"
   ]
  },
  {
   "cell_type": "code",
   "execution_count": null,
   "metadata": {},
   "outputs": [],
   "source": [
    "# Setup\n",
    "# This does not work for some reason - the device connection thingy requires identifying the device\n",
    "# Much check how to avoid that.\n",
    "\n",
    "# from ytmusicapi import YTMusic, OAuthCredentials\n",
    "# YTMUSIC_REFRESH_TOKEN = os.getenv('YTMUSIC_REFRESH_TOKEN')\n",
    "# YTMUSIC_ACCESS_TOKEN = os.getenv('YTMUSIC_ACCESS_TOKEN')\n",
    "# YTMUSIC_CLIENT_ID = os.getenv('YTMUSIC_CLIENT_ID')\n",
    "# YTMUSIC_CLIENT_SECRET = os.getenv('YTMUSIC_CLIENT_SECRET')\n",
    "# with open('../../oauth.json') as file:\n",
    "#     oauth = json.load(file)\n",
    "# oauth['access_token'] = YTMUSIC_ACCESS_TOKEN\n",
    "# oauth['refresh_token'] = YTMUSIC_REFRESH_TOKEN\n",
    "# oauth_credentials = OAuthCredentials(client_id=YTMUSIC_CLIENT_ID, client_secret=YTMUSIC_CLIENT_SECRET)\n",
    "# yt = YTMusic(oauth, oauth_credentials=oauth_credentials)\n",
    "\n",
    "# Alt-authorisation\n",
    "# ytmusicapi.setup()"
   ]
  },
  {
   "cell_type": "code",
   "execution_count": 2,
   "metadata": {},
   "outputs": [],
   "source": [
    "# Alternative\n",
    "# Use the API unauthorised\n",
    "\n",
    "from ytmusicapi import YTMusic\n",
    "youtube_client = YTMusic()\n"
   ]
  },
  {
   "cell_type": "markdown",
   "metadata": {},
   "source": [
    "## Important fields"
   ]
  },
  {
   "cell_type": "markdown",
   "metadata": {},
   "source": [
    "### search"
   ]
  },
  {
   "cell_type": "code",
   "execution_count": 5,
   "metadata": {},
   "outputs": [],
   "source": [
    "query: str = \"bind, torture, kill\"\n",
    "filter: tp.Literal[\"artists\", \"albums\", \"songs\", \"playlists\"] = \"songs\"\n",
    "limit: int = 10\n",
    "\n",
    "youtube_client.search(query=query, filter=filter, limit=limit, ignore_spelling=False)\n",
    "\n",
    "thumbnails = (\n",
    "    [\n",
    "        {\n",
    "            \"url\": \"https://lh3.googleusercontent.com/QvN2GI_GwaCFoZ1UuKVpAeOccis7Q02Lc5E5XRJ9l4rYxUa8bkmPEsJAhlqLxzkJWRFnNN7iX7-1Gdw=w60-h60-l90-rj\",\n",
    "            \"width\": 60,\n",
    "            \"height\": 60,\n",
    "        },\n",
    "    ],\n",
    ")\n",
    "\n",
    "\n",
    "# ARTISTS\n",
    "search_artists_results = [\n",
    "    {\n",
    "        \"category\": \"Artists\",\n",
    "        \"resultType\": \"artist\",\n",
    "        \"artist\": \"Suicide Commando\",\n",
    "        \"browseId\": \"UCrsvJ1npu-ox0CnncGhq2QA\",\n",
    "        \"thumbnails\": thumbnails,\n",
    "    }\n",
    "]\n",
    "\n",
    "# ALBUMS\n",
    "search_albums_results = [\n",
    "    {\n",
    "        \"category\": \"Albums\",\n",
    "        \"resultType\": \"album\",\n",
    "        \"title\": \"Bind, Torture, Kill\",\n",
    "        \"type\": \"Album\",\n",
    "        \"year\": \"2006\",\n",
    "        \"artists\": [{\"name\": \"Suicide Commando\", \"id\": \"UCrsvJ1npu-ox0CnncGhq2QA\"}],  # artist - browseId\n",
    "        \"browseId\": \"MPREb_pRY2rME882K\",\n",
    "    },\n",
    "]\n",
    "\n",
    "# SONGS\n",
    "search_songs_results = [\n",
    "    {\n",
    "        \"category\": \"Songs\",\n",
    "        \"resultType\": \"song\",\n",
    "        \"title\": \"Bind, Torture, Kill\",\n",
    "        \"album\": {\"name\": \"Bind, Torture, Kill\", \"id\": \"MPREb_pRY2rME882K\"},  # album - browseId\n",
    "        \"videoId\": \"0W2JDPCnoUo\",  # watch parameter music.youtube.com/watch?v=...\n",
    "        \"artists\": [{\"name\": \"Suicide Commando\", \"id\": \"UCrsvJ1npu-ox0CnncGhq2QA\"}],  # artist - browseId\n",
    "    },\n",
    "]"
   ]
  },
  {
   "cell_type": "markdown",
   "metadata": {},
   "source": [
    "### get_artist"
   ]
  },
  {
   "cell_type": "code",
   "execution_count": 6,
   "metadata": {},
   "outputs": [],
   "source": [
    "artist_browse_id = search_artists_results[0]['browseId']\n",
    "get_artist_result = youtube_client.get_artist(artist_browse_id)\n",
    "\n",
    "# For songs/videos, pass the browseId to get_playlist().\n",
    "# For albums/singles/shows, pass browseId and params to get_artist_albums().\n",
    "get_artist_result_ = {\n",
    "    \"name\": \"Suicide Commando\",\n",
    "    \"channelId\": \"UCrsvJ1npu-ox0CnncGhq2QA\",\n",
    "    \"thumbnails\": thumbnails,\n",
    "    \"songs\": {\n",
    "        \"browseId\": \"VLOLAK5uy_l5rAodr7oluhYHTBYMamfhnwEeE4rmhKo\",  # playlist?list=[2:]\n",
    "        \"results\": [],  # first 5 songs shown on band page\n",
    "    },\n",
    "    \"albums\": {\n",
    "        \"browseId\": \"MPADUCrsvJ1npu-ox0CnncGhq2QA\",  # use in get_artist_albums()\n",
    "        \"params\": \"ggMIegYIARoCAQI%3D\",  # use in get_artist_albums()\n",
    "        \"results\": [],  # first 10 albums shown on band page\n",
    "    },\n",
    "    \"singles\": {\n",
    "        \"browseId\": \"MPADUCrsvJ1npu-ox0CnncGhq2QA\",  # use in get_artist_albums()\n",
    "        \"params\": \"ggMIegYIAhoCAQI%3D\",  # use in get_artist_albums()\n",
    "        \"results\": [],  # first 10 albums shown on band page\n",
    "    },\n",
    "    \"videos\": {\n",
    "        \"browseId\": \"VLOLAK5uy_mc_gtvS2jKs_NIeGYiCFl5PyLQN5FoMX8\",  # playlist?list=[2:]\n",
    "        \"params\": \"ggMCCAI%3D\",\n",
    "        \"results\": [],  # first 10 albums shown on band page\n",
    "    },\n",
    "    \"related\": {\n",
    "        \"browseId\": None,\n",
    "        \"results\": [],  # 10 band recommendations\n",
    "    },\n",
    "}\n"
   ]
  },
  {
   "cell_type": "markdown",
   "metadata": {},
   "source": [
    "### get_album"
   ]
  },
  {
   "cell_type": "code",
   "execution_count": 7,
   "metadata": {},
   "outputs": [],
   "source": [
    "album_browse_id = search_albums_results[0]['browseId']\n",
    "get_album_result = youtube_client.get_album(album_browse_id)\n",
    "\n",
    "get_album_result_ = {\n",
    "    \"title\": \"Bind, Torture, Kill\",\n",
    "    \"type\": \"Album\",\n",
    "    \"thumbnails\": thumbnails,\n",
    "    \"artists\": [{\"name\": \"Suicide Commando\", \"id\": \"UCrsvJ1npu-ox0CnncGhq2QA\"}],  # get_artist_result_['channelId']\n",
    "    \"year\": \"2006\",\n",
    "    \"audioPlaylistId\": \"OLAK5uy_klMA5C-aUaXA50Ts7QAnvSFve6PMJCOww\",  # album id\n",
    "    \"tracks\": [\n",
    "        {\n",
    "            \"videoId\": \"0W2JDPCnoUo\",  # watch?v=[:]&list=['audioPlaylistId]\n",
    "            \"title\": \"Bind, Torture, Kill\",\n",
    "            \"artists\": [{\"name\": \"Suicide Commando\", \"id\": \"UCrsvJ1npu-ox0CnncGhq2QA\"}],  # get_artist_result_['channelId']\n",
    "            \"album\": \"Bind, Torture, Kill\",\n",
    "            \"videoType\": \"MUSIC_VIDEO_TYPE_ATV\",\n",
    "            \"trackNumber\": 1,\n",
    "        }, {}, {}, {}, {}, {}, {}, {}, {}, {}, {}, \n",
    "    ],\n",
    "}\n"
   ]
  },
  {
   "cell_type": "markdown",
   "metadata": {},
   "source": [
    "### get_song"
   ]
  },
  {
   "cell_type": "code",
   "execution_count": 8,
   "metadata": {},
   "outputs": [],
   "source": [
    "song_video_id = search_songs_results[0]['videoId']\n",
    "get_song_result = youtube_client.get_song(song_video_id)\n",
    "\n",
    "get_song_result_ = {\n",
    "    \"videoDetails\": {\n",
    "        \"videoId\": \"0W2JDPCnoUo\",\n",
    "        \"title\": \"Bind, Torture, Kill\",\n",
    "        \"channelId\": \"UCrsvJ1npu-ox0CnncGhq2QA\",  # artist id\n",
    "        \"thumbnail\": {\n",
    "            \"thumbnails\": thumbnails\n",
    "        },\n",
    "        \"author\": \"Suicide Commando\",\n",
    "        \"musicVideoType\": \"MUSIC_VIDEO_TYPE_ATV\",\n",
    "    },\n",
    "}\n",
    "\n",
    "embed_frame = f\"\"\"\n",
    "<iframe\n",
    "    width=\"560\"\n",
    "    height=\"315\"\n",
    "    src=\"https://www.youtube.com/embed/{song_video_id}\"\n",
    "    title=\"YouTube video player\"\n",
    "    frameborder=\"0\"\n",
    "    allow=\"accelerometer; autoplay; clipboard-write; encrypted-media; gyroscope; picture-in-picture; web-share\"\n",
    "    referrerpolicy=\"strict-origin-when-cross-origin\"\n",
    "    allowfullscreen></iframe>\n",
    "\"\"\""
   ]
  },
  {
   "cell_type": "markdown",
   "metadata": {},
   "source": [
    "### get_artist_albums"
   ]
  },
  {
   "cell_type": "code",
   "execution_count": 16,
   "metadata": {},
   "outputs": [
    {
     "data": {
      "text/plain": [
       "19"
      ]
     },
     "execution_count": 16,
     "metadata": {},
     "output_type": "execute_result"
    }
   ],
   "source": [
    "channelId = get_artist_result[\"albums\"][\"browseId\"]   # 'albums' or 'singles'\n",
    "params = get_artist_result[\"albums\"][\"params\"]\n",
    "\n",
    "get_artist_albums_results = youtube_client.get_artist_albums(channelId, params)\n",
    "\n",
    "get_artist_albums_results_ = [\n",
    "    {\n",
    "        \"browseId\": \"MPREb_ag6aoNYIkLi\",  # album id\n",
    "        \"playlistId\": \"OLAK5uy_nhKDYPycY8VTU5vCBIbHixEEPO8IRqkY0\",  # playlist?list=[]\n",
    "        \"title\": \"Goddestruktor\",\n",
    "        \"thumbnails\": thumbnails,\n",
    "        \"type\": \"Album\",\n",
    "        \"artists\": [],\n",
    "        \"year\": \"2022\",\n",
    "    },\n",
    "    {\n",
    "        \"browseId\": \"MPREb_y6gMGnblVaF\",\n",
    "        \"playlistId\": \"OLAK5uy_kUp9ShADLecN0e4s1xxjX0PEQ38sbqrqA\",\n",
    "        \"title\": \"Face of Death (v2023)\",\n",
    "        \"thumbnails\": thumbnails,\n",
    "        \"type\": \"Single\",\n",
    "        \"artists\": [],\n",
    "        \"year\": \"2023\",\n",
    "    },\n",
    "]\n"
   ]
  }
 ],
 "metadata": {
  "kernelspec": {
   "display_name": "music_db_finder",
   "language": "python",
   "name": "python3"
  },
  "language_info": {
   "codemirror_mode": {
    "name": "ipython",
    "version": 3
   },
   "file_extension": ".py",
   "mimetype": "text/x-python",
   "name": "python",
   "nbconvert_exporter": "python",
   "pygments_lexer": "ipython3",
   "version": "3.11.9"
  }
 },
 "nbformat": 4,
 "nbformat_minor": 2
}
