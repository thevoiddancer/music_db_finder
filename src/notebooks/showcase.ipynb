{
 "cells": [
  {
   "cell_type": "code",
   "execution_count": 20,
   "metadata": {},
   "outputs": [],
   "source": [
    "# IMPORTS\n",
    "import typing as tp\n",
    "import discogs_client as DiscogsClient\n",
    "from rapidfuzz import process as r_process, fuzz as r_fuzz\n",
    "from rich import print as rprint\n",
    "import spotipy\n",
    "from spotipy.oauth2 import SpotifyClientCredentials\n",
    "import os\n",
    "import json\n",
    "import pathlib\n",
    "import dotenv\n",
    "env_file_name = '/../../../.env'\n",
    "env_path = pathlib.Path(os.getcwd() + env_file_name)\n",
    "if env_path.exists():\n",
    "    dotenv.load_dotenv(env_path, override=True)\n",
    "else:\n",
    "    raise FileExistsError('env file does not exist')\n",
    "\n",
    "SPOTIPY_CLIENT_ID = os.getenv('SPOTIFY_CLIENT_ID')\n",
    "SPOTIPY_CLIENT_SECRET = os.getenv('SPOTIFY_CLIENT_SECRET')\n",
    "DISCOGS_USER_TOKEN = os.getenv('DISCOGS_USER_TOKEN')\n",
    "\n",
    "discogs_client = DiscogsClient.Client('ExampleApplication/0.1', user_token=DISCOGS_USER_TOKEN)\n",
    "spotify_auth_manager = SpotifyClientCredentials(client_id=SPOTIPY_CLIENT_ID, client_secret=SPOTIPY_CLIENT_SECRET)\n",
    "spotify_client = spotipy.Spotify(client_credentials_manager=spotify_auth_manager)\n",
    "\n"
   ]
  },
  {
   "cell_type": "markdown",
   "metadata": {},
   "source": [
    "# DISCOGS"
   ]
  },
  {
   "cell_type": "code",
   "execution_count": null,
   "metadata": {},
   "outputs": [],
   "source": []
  },
  {
   "cell_type": "markdown",
   "metadata": {},
   "source": [
    "# SPOTIFY"
   ]
  },
  {
   "cell_type": "code",
   "execution_count": null,
   "metadata": {},
   "outputs": [],
   "source": []
  },
  {
   "cell_type": "markdown",
   "metadata": {},
   "source": [
    "# YOUTUBE"
   ]
  },
  {
   "cell_type": "markdown",
   "metadata": {},
   "source": [
    "Song and video are generally treated the same, but you can't add video to a playlist."
   ]
  },
  {
   "cell_type": "code",
   "execution_count": null,
   "metadata": {},
   "outputs": [],
   "source": [
    "# Setup\n",
    "# This does not work for some reason - the device connection thingy requires identifying the device\n",
    "# Much check how to avoid that.\n",
    "\n",
    "# from ytmusicapi import YTMusic, OAuthCredentials\n",
    "# YTMUSIC_REFRESH_TOKEN = os.getenv('YTMUSIC_REFRESH_TOKEN')\n",
    "# YTMUSIC_ACCESS_TOKEN = os.getenv('YTMUSIC_ACCESS_TOKEN')\n",
    "# YTMUSIC_CLIENT_ID = os.getenv('YTMUSIC_CLIENT_ID')\n",
    "# YTMUSIC_CLIENT_SECRET = os.getenv('YTMUSIC_CLIENT_SECRET')\n",
    "# with open('../../oauth.json') as file:\n",
    "#     oauth = json.load(file)\n",
    "# oauth['access_token'] = YTMUSIC_ACCESS_TOKEN\n",
    "# oauth['refresh_token'] = YTMUSIC_REFRESH_TOKEN\n",
    "# oauth_credentials = OAuthCredentials(client_id=YTMUSIC_CLIENT_ID, client_secret=YTMUSIC_CLIENT_SECRET)\n",
    "# yt = YTMusic(oauth, oauth_credentials=oauth_credentials)\n",
    "\n",
    "# Alt-authorisation\n",
    "# ytmusicapi.setup()"
   ]
  },
  {
   "cell_type": "code",
   "execution_count": 17,
   "metadata": {},
   "outputs": [],
   "source": [
    "# Alternative\n",
    "# Use the API unauthorised\n",
    "\n",
    "from ytmusicapi import YTMusic\n",
    "youtube_client = YTMusic()\n"
   ]
  },
  {
   "cell_type": "code",
   "execution_count": null,
   "metadata": {},
   "outputs": [
    {
     "ename": "TypeError",
     "evalue": "SearchMixin.search() missing 1 required positional argument: 'query'",
     "output_type": "error",
     "traceback": [
      "\u001b[0;31m---------------------------------------------------------------------------\u001b[0m",
      "\u001b[0;31mTypeError\u001b[0m                                 Traceback (most recent call last)",
      "Cell \u001b[0;32mIn[22], line 2\u001b[0m\n\u001b[1;32m      1\u001b[0m \u001b[38;5;28mfilter\u001b[39m: tp\u001b[38;5;241m.\u001b[39mLiteral[\u001b[38;5;124m'\u001b[39m\u001b[38;5;124msongs\u001b[39m\u001b[38;5;124m'\u001b[39m, \u001b[38;5;124m'\u001b[39m\u001b[38;5;124mvideos\u001b[39m\u001b[38;5;124m'\u001b[39m, \u001b[38;5;124m'\u001b[39m\u001b[38;5;124malbums\u001b[39m\u001b[38;5;124m'\u001b[39m, \u001b[38;5;124m'\u001b[39m\u001b[38;5;124martists\u001b[39m\u001b[38;5;124m'\u001b[39m, \u001b[38;5;124m'\u001b[39m\u001b[38;5;124mplaylists\u001b[39m\u001b[38;5;124m'\u001b[39m, \u001b[38;5;124m'\u001b[39m\u001b[38;5;124mcommunity_playlists\u001b[39m\u001b[38;5;124m'\u001b[39m, \u001b[38;5;124m'\u001b[39m\u001b[38;5;124mfeatured_playlists\u001b[39m\u001b[38;5;124m'\u001b[39m, \u001b[38;5;124m'\u001b[39m\u001b[38;5;124muploads\u001b[39m\u001b[38;5;124m'\u001b[39m]\n\u001b[0;32m----> 2\u001b[0m \u001b[43myoutube_client\u001b[49m\u001b[38;5;241;43m.\u001b[39;49m\u001b[43msearch\u001b[49m\u001b[43m(\u001b[49m\u001b[43m)\u001b[49m\n",
      "\u001b[0;31mTypeError\u001b[0m: SearchMixin.search() missing 1 required positional argument: 'query'"
     ]
    }
   ],
   "source": [
    "filter: tp.Literal['songs', 'videos', 'albums', 'artists', 'playlists', 'community_playlists', 'featured_playlists', 'uploads']\n",
    "youtube_client.search(\n",
    "    'query', # str\n",
    "    'filter', # filter\n",
    "    'limit', # int\n",
    ")\n"
   ]
  },
  {
   "cell_type": "code",
   "execution_count": null,
   "metadata": {},
   "outputs": [
    {
     "ename": "YTMusicServerError",
     "evalue": "Server returned HTTP 400: Bad Request.\nRequest contains an invalid argument.",
     "output_type": "error",
     "traceback": [
      "\u001b[0;31m---------------------------------------------------------------------------\u001b[0m",
      "\u001b[0;31mYTMusicServerError\u001b[0m                        Traceback (most recent call last)",
      "Cell \u001b[0;32mIn[5], line 7\u001b[0m\n\u001b[1;32m      4\u001b[0m \u001b[38;5;28;01melse\u001b[39;00m:\n\u001b[1;32m      5\u001b[0m     \u001b[38;5;28;01mraise\u001b[39;00m \u001b[38;5;167;01mFileExistsError\u001b[39;00m\n\u001b[0;32m----> 7\u001b[0m \u001b[43myt\u001b[49m\u001b[38;5;241;43m.\u001b[39;49m\u001b[43msearch\u001b[49m\u001b[43m(\u001b[49m\u001b[38;5;124;43m'\u001b[39;49m\u001b[38;5;124;43mOasis Wonderwall\u001b[39;49m\u001b[38;5;124;43m'\u001b[39;49m\u001b[43m)\u001b[49m\n",
      "File \u001b[0;32m~/miniconda3/envs/music_db_finder/lib/python3.12/site-packages/ytmusicapi/mixins/search.py:183\u001b[0m, in \u001b[0;36mSearchMixin.search\u001b[0;34m(self, query, filter, scope, limit, ignore_spelling)\u001b[0m\n\u001b[1;32m    180\u001b[0m \u001b[38;5;28;01mif\u001b[39;00m params:\n\u001b[1;32m    181\u001b[0m     body[\u001b[38;5;124m\"\u001b[39m\u001b[38;5;124mparams\u001b[39m\u001b[38;5;124m\"\u001b[39m] \u001b[38;5;241m=\u001b[39m params\n\u001b[0;32m--> 183\u001b[0m response \u001b[38;5;241m=\u001b[39m \u001b[38;5;28;43mself\u001b[39;49m\u001b[38;5;241;43m.\u001b[39;49m\u001b[43m_send_request\u001b[49m\u001b[43m(\u001b[49m\u001b[43mendpoint\u001b[49m\u001b[43m,\u001b[49m\u001b[43m \u001b[49m\u001b[43mbody\u001b[49m\u001b[43m)\u001b[49m\n\u001b[1;32m    185\u001b[0m \u001b[38;5;66;03m# no results\u001b[39;00m\n\u001b[1;32m    186\u001b[0m \u001b[38;5;28;01mif\u001b[39;00m \u001b[38;5;124m\"\u001b[39m\u001b[38;5;124mcontents\u001b[39m\u001b[38;5;124m\"\u001b[39m \u001b[38;5;129;01mnot\u001b[39;00m \u001b[38;5;129;01min\u001b[39;00m response:\n",
      "File \u001b[0;32m~/miniconda3/envs/music_db_finder/lib/python3.12/site-packages/ytmusicapi/ytmusic.py:237\u001b[0m, in \u001b[0;36mYTMusicBase._send_request\u001b[0;34m(self, endpoint, body, additionalParams)\u001b[0m\n\u001b[1;32m    235\u001b[0m     message \u001b[38;5;241m=\u001b[39m \u001b[38;5;124m\"\u001b[39m\u001b[38;5;124mServer returned HTTP \u001b[39m\u001b[38;5;124m\"\u001b[39m \u001b[38;5;241m+\u001b[39m \u001b[38;5;28mstr\u001b[39m(response\u001b[38;5;241m.\u001b[39mstatus_code) \u001b[38;5;241m+\u001b[39m \u001b[38;5;124m\"\u001b[39m\u001b[38;5;124m: \u001b[39m\u001b[38;5;124m\"\u001b[39m \u001b[38;5;241m+\u001b[39m response\u001b[38;5;241m.\u001b[39mreason \u001b[38;5;241m+\u001b[39m \u001b[38;5;124m\"\u001b[39m\u001b[38;5;124m.\u001b[39m\u001b[38;5;130;01m\\n\u001b[39;00m\u001b[38;5;124m\"\u001b[39m\n\u001b[1;32m    236\u001b[0m     error \u001b[38;5;241m=\u001b[39m response_text\u001b[38;5;241m.\u001b[39mget(\u001b[38;5;124m\"\u001b[39m\u001b[38;5;124merror\u001b[39m\u001b[38;5;124m\"\u001b[39m, {})\u001b[38;5;241m.\u001b[39mget(\u001b[38;5;124m\"\u001b[39m\u001b[38;5;124mmessage\u001b[39m\u001b[38;5;124m\"\u001b[39m)\n\u001b[0;32m--> 237\u001b[0m     \u001b[38;5;28;01mraise\u001b[39;00m YTMusicServerError(message \u001b[38;5;241m+\u001b[39m error)\n\u001b[1;32m    238\u001b[0m \u001b[38;5;28;01mreturn\u001b[39;00m response_text\n",
      "\u001b[0;31mYTMusicServerError\u001b[0m: Server returned HTTP 400: Bad Request.\nRequest contains an invalid argument."
     ]
    }
   ],
   "source": [
    "json_path = pathlib.Path(os.getcwd() + '/../../oauth.json').resolve()\n",
    "if json_path.exists():\n",
    "    youtube_client = YTMusic(str(json_path), oauth_credentials=oauth_credentials)\n",
    "else:\n",
    "    raise FileExistsError\n",
    "    \n",
    "youtube_client.search('Oasis Wonderwall')"
   ]
  }
 ],
 "metadata": {
  "kernelspec": {
   "display_name": "music_db_finder",
   "language": "python",
   "name": "python3"
  },
  "language_info": {
   "codemirror_mode": {
    "name": "ipython",
    "version": 3
   },
   "file_extension": ".py",
   "mimetype": "text/x-python",
   "name": "python",
   "nbconvert_exporter": "python",
   "pygments_lexer": "ipython3",
   "version": "3.12.9"
  }
 },
 "nbformat": 4,
 "nbformat_minor": 2
}
